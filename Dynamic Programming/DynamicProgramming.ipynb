{
  "nbformat": 4,
  "nbformat_minor": 0,
  "metadata": {
    "colab": {
      "name": "DynamicProgramming.ipynb",
      "provenance": [],
      "authorship_tag": "ABX9TyMoxviaQg1LrvyCOYh440/5",
      "include_colab_link": true
    },
    "kernelspec": {
      "name": "python3",
      "display_name": "Python 3"
    },
    "language_info": {
      "name": "python"
    }
  },
  "cells": [
    {
      "cell_type": "markdown",
      "metadata": {
        "id": "view-in-github",
        "colab_type": "text"
      },
      "source": [
        "<a href=\"https://colab.research.google.com/github/Gravewalker666/SCS2201-Data-Structures-and-Algorithms/blob/main/Dynamic%20Programming/DynamicProgramming.ipynb\" target=\"_parent\"><img src=\"https://colab.research.google.com/assets/colab-badge.svg\" alt=\"Open In Colab\"/></a>"
      ]
    },
    {
      "cell_type": "markdown",
      "metadata": {
        "id": "r4MaRX18Pgv9"
      },
      "source": [
        "## Dynamic Programming \n",
        "\n",
        "Three steps in dynamic programming, \n",
        "1. Recursion\n",
        "2. Memoisation \n",
        "3. Bottom up \n",
        "\n",
        "First up let's take a look at the classical recursive fibonacci sequence algorithm"
      ]
    },
    {
      "cell_type": "code",
      "metadata": {
        "id": "nByR7d6GOOYM"
      },
      "source": [
        "def fib(n):\n",
        "    if n == 1 or n == 2:\n",
        "        return n\n",
        "    else:\n",
        "        return fib(n - 1) + fib(n - 2)"
      ],
      "execution_count": 1,
      "outputs": []
    },
    {
      "cell_type": "code",
      "metadata": {
        "colab": {
          "base_uri": "https://localhost:8080/"
        },
        "id": "mdxFLlvCPNM_",
        "outputId": "0ab25d60-5933-4952-b7f0-9ec9a4f406ad"
      },
      "source": [
        "fib(5)"
      ],
      "execution_count": 2,
      "outputs": [
        {
          "output_type": "execute_result",
          "data": {
            "text/plain": [
              "8"
            ]
          },
          "metadata": {
            "tags": []
          },
          "execution_count": 2
        }
      ]
    },
    {
      "cell_type": "code",
      "metadata": {
        "colab": {
          "base_uri": "https://localhost:8080/"
        },
        "id": "c6DuQCK_PP_y",
        "outputId": "4364f01a-c5e3-4405-dc53-880503889351"
      },
      "source": [
        "fib(23)"
      ],
      "execution_count": 3,
      "outputs": [
        {
          "output_type": "execute_result",
          "data": {
            "text/plain": [
              "46368"
            ]
          },
          "metadata": {
            "tags": []
          },
          "execution_count": 3
        }
      ]
    },
    {
      "cell_type": "code",
      "metadata": {
        "colab": {
          "base_uri": "https://localhost:8080/"
        },
        "id": "bUio5EVsPSue",
        "outputId": "eaae0228-c53d-4d58-ef67-da6e39b354f0"
      },
      "source": [
        "fib(3)"
      ],
      "execution_count": 4,
      "outputs": [
        {
          "output_type": "execute_result",
          "data": {
            "text/plain": [
              "3"
            ]
          },
          "metadata": {
            "tags": []
          },
          "execution_count": 4
        }
      ]
    },
    {
      "cell_type": "code",
      "metadata": {
        "id": "vxiDak5mQKuU"
      },
      "source": [
        "def fib_with_memo (n, memo):\n",
        "    "
      ],
      "execution_count": null,
      "outputs": []
    }
  ]
}